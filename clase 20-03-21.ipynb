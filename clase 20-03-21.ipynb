{
 "cells": [
  {
   "cell_type": "code",
   "execution_count": 1,
   "metadata": {},
   "outputs": [
    {
     "name": "stdout",
     "output_type": "stream",
     "text": [
      "hola mundo\n"
     ]
    }
   ],
   "source": [
    "print ('hola mundo')"
   ]
  },
  {
   "cell_type": "markdown",
   "metadata": {},
   "source": [
    "### ejercicio 1 "
   ]
  },
  {
   "cell_type": "code",
   "execution_count": 3,
   "metadata": {},
   "outputs": [
    {
     "name": "stdout",
     "output_type": "stream",
     "text": [
      "no puede tomar\n"
     ]
    }
   ],
   "source": [
    "# ejercicio 1 \n",
    "# primera version \n",
    "edad = 17\n",
    "if edad >= 18:\n",
    "    print ('puede tomar cerveza')\n",
    "else: \n",
    "    print ('no puede tomar')"
   ]
  },
  {
   "cell_type": "code",
   "execution_count": 8,
   "metadata": {},
   "outputs": [
    {
     "name": "stdout",
     "output_type": "stream",
     "text": [
      "ingrese la edad 45\n",
      "puede tomar cerveza\n"
     ]
    }
   ],
   "source": [
    "# entrada de texto \n",
    "\n",
    "edad = int(input('ingrese la edad '))\n",
    "\n",
    "if edad >= 18:\n",
    "    print ('puede tomar cerveza')\n",
    "else: \n",
    "    print ('no puede tomar')"
   ]
  },
  {
   "cell_type": "code",
   "execution_count": 9,
   "metadata": {},
   "outputs": [],
   "source": [
    "def ejercicio1(edad):\n",
    "    if edad >= 18:\n",
    "        print ('puede tomar cerveza')\n",
    "    else: \n",
    "        print ('no puede tomar')"
   ]
  },
  {
   "cell_type": "code",
   "execution_count": 10,
   "metadata": {},
   "outputs": [
    {
     "name": "stdout",
     "output_type": "stream",
     "text": [
      "puede tomar cerveza\n"
     ]
    }
   ],
   "source": [
    "ejercicio1(19)"
   ]
  },
  {
   "cell_type": "code",
   "execution_count": 11,
   "metadata": {},
   "outputs": [
    {
     "name": "stdout",
     "output_type": "stream",
     "text": [
      "ingrese la edad 65\n",
      "puede tomar cerveza\n"
     ]
    }
   ],
   "source": [
    "ejercicio1(int(input('ingrese la edad ')))"
   ]
  },
  {
   "cell_type": "markdown",
   "metadata": {},
   "source": [
    "### ejercico 2"
   ]
  },
  {
   "cell_type": "code",
   "execution_count": 20,
   "metadata": {},
   "outputs": [
    {
     "name": "stdout",
     "output_type": "stream",
     "text": [
      "no comprom nada\n"
     ]
    }
   ],
   "source": [
    "marca = 'aguila'\n",
    "if marca == 'busguizer':  # el signo igual  doble es boliano o comparacion \n",
    "    print('compro',marca) # es recomendad hace el cambio en estring \n",
    "else :\n",
    "    print ('no comprom nada')\n",
    "    "
   ]
  },
  {
   "cell_type": "code",
   "execution_count": 16,
   "metadata": {},
   "outputs": [
    {
     "name": "stdout",
     "output_type": "stream",
     "text": [
      "TRM del dia=3500\n"
     ]
    }
   ],
   "source": [
    "trm = 3500\n",
    "print ('TRM del dia='+str(trm)) # es mejor de la otra forma por datos "
   ]
  },
  {
   "cell_type": "code",
   "execution_count": null,
   "metadata": {},
   "outputs": [],
   "source": [
    "marca = 'aguila'\n",
    "\n",
    "\n",
    "if marca == 'busguizer':  # el signo igual  doble es boliano o comparacion \n",
    "    print('compro',marca) # es recomendad hace el cambio en estring \n",
    "else :\n",
    "    print ('no comprom nada')"
   ]
  }
 ],
 "metadata": {
  "kernelspec": {
   "display_name": "Python 3",
   "language": "python",
   "name": "python3"
  },
  "language_info": {
   "codemirror_mode": {
    "name": "ipython",
    "version": 3
   },
   "file_extension": ".py",
   "mimetype": "text/x-python",
   "name": "python",
   "nbconvert_exporter": "python",
   "pygments_lexer": "ipython3",
   "version": "3.8.5"
  }
 },
 "nbformat": 4,
 "nbformat_minor": 4
}
